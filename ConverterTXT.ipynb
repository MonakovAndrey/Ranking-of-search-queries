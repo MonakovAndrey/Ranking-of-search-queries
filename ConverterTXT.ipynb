{
 "cells": [
  {
   "cell_type": "code",
   "execution_count": null,
   "id": "6bda14bc-4d40-4989-aba0-2ed01be660a8",
   "metadata": {},
   "outputs": [],
   "source": [
    "#Взятие данных из txt файла с преобразованием и размещением в df, после чего сохранил как csv для более быстро дальнешнего доступа\n",
    "\n",
    "import pandas as pd\n",
    "\n",
    "\n",
    "def parse_libsvm_ranking(path, n_features):\n",
    "    data = []\n",
    "    query_ids = []\n",
    "    targets = []\n",
    "\n",
    "    with open(path, 'r') as f:\n",
    "        for line in f:\n",
    "            parts = line.strip().split()\n",
    "            target = int(parts[0])\n",
    "            qid = int(parts[1].split(':')[1])\n",
    "            features = [0.0] * n_features\n",
    "\n",
    "            for item in parts[2:]:\n",
    "                if item.startswith('#'):\n",
    "                    break  # комментарии игнорируем\n",
    "                index, value = item.split(':')\n",
    "                features[int(index) - 1] = float(value)\n",
    "\n",
    "            data.append(features)\n",
    "            query_ids.append(qid)\n",
    "            targets.append(target)\n",
    "\n",
    "    df = pd.DataFrame(data, columns=[f'f{i+1}' for i in range(n_features)])\n",
    "    df['qid'] = query_ids\n",
    "    df['target'] = targets\n",
    "    return df\n",
    "\n",
    "df = parse_libsvm_ranking(\"D:/ds/pets/mslr/data/Fold1/test.txt\", n_features=136)\n",
    "\n",
    "print(df.head())\n",
    "\n",
    "df.to_csv(index = False, path_or_buf=\"D:/ds/pets/mslr/data/Fold1/mslrTest.csv\")"
   ]
  }
 ],
 "metadata": {
  "kernelspec": {
   "display_name": "Python 3 (ipykernel)",
   "language": "python",
   "name": "python3"
  },
  "language_info": {
   "codemirror_mode": {
    "name": "ipython",
    "version": 3
   },
   "file_extension": ".py",
   "mimetype": "text/x-python",
   "name": "python",
   "nbconvert_exporter": "python",
   "pygments_lexer": "ipython3",
   "version": "3.12.4"
  }
 },
 "nbformat": 4,
 "nbformat_minor": 5
}
